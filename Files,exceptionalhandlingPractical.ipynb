{
  "nbformat": 4,
  "nbformat_minor": 0,
  "metadata": {
    "colab": {
      "provenance": []
    },
    "kernelspec": {
      "name": "python3",
      "display_name": "Python 3"
    },
    "language_info": {
      "name": "python"
    }
  },
  "cells": [
    {
      "cell_type": "code",
      "execution_count": null,
      "metadata": {
        "colab": {
          "base_uri": "https://localhost:8080/"
        },
        "id": "GygV2PZTVJTE",
        "outputId": "a6c5f1e8-ade6-4d39-b92b-016d69d719cd"
      },
      "outputs": [
        {
          "output_type": "stream",
          "name": "stdout",
          "text": [
            "PW Skills\n"
          ]
        }
      ],
      "source": [
        "#1.How can you open a file for writing in Python and write a string to it ?\n",
        "\n",
        "# Write mode: Creates a new file or truncates an existing file\n",
        "\n",
        "with open(\"file.txt\", \"w\") as f:\n",
        "    f.write(\"PW Skills\")\n",
        "\n",
        "f = open(\"file.txt\",\"r\")\n",
        "print(f.read())\n"
      ]
    },
    {
      "cell_type": "code",
      "source": [
        "#2.Write a Python program to read the contents of a file and print each line?\n",
        "\n",
        "L = \"\"\"Soumya Ray\n",
        "data Analytics\n",
        "Pw Skills\"\"\"\n",
        "\n",
        "# writing to file\n",
        "file1 = open('myfile.txt', 'w')\n",
        "file1.writelines(L)\n",
        "file1.close()\n",
        "\n",
        "# Using readlines()\n",
        "file1 = open('myfile.txt', 'r')\n",
        "Lines = file1.readlines()\n",
        "print(L)\n",
        "file1.close()\n"
      ],
      "metadata": {
        "colab": {
          "base_uri": "https://localhost:8080/"
        },
        "id": "UYOgQoKbW_th",
        "outputId": "aa2e7ddd-1033-43c0-b121-d3cb329a6901"
      },
      "execution_count": null,
      "outputs": [
        {
          "output_type": "stream",
          "name": "stdout",
          "text": [
            "Soumya Ray\n",
            "data Analytics\n",
            "Pw Skills\n"
          ]
        }
      ]
    },
    {
      "cell_type": "code",
      "source": [
        "#3.How would you handle a case where the file doesn't exist while trying to open it for reading?\n",
        "\n",
        "#Using try-except block (Try block)is a reliable way to handle FileNotFoundError. It lets your program attempt to open the file,\n",
        "#and if the file doesn't exist,the except block gracefully handles the error without crashing the program.\n",
        "\n",
        "try:\n",
        "    with open(\"abc.txt\", \"r\") as file:\n",
        "        data = file.read()\n",
        "except FileNotFoundError:\n",
        "    print(\"Not found\")"
      ],
      "metadata": {
        "colab": {
          "base_uri": "https://localhost:8080/"
        },
        "id": "TASy9WP_Y_ub",
        "outputId": "835b4baf-07fd-45a6-bca3-88deb68ae6ea"
      },
      "execution_count": null,
      "outputs": [
        {
          "output_type": "stream",
          "name": "stdout",
          "text": [
            "Not found\n"
          ]
        }
      ]
    },
    {
      "cell_type": "code",
      "source": [
        "#4.Write a Python script that reads from one file and writes its content to another file?\n",
        "\n",
        "\n",
        "# Taking \"gfg input file.txt\" as input file\n",
        "# in reading mode\n",
        "with open(\"gfg input file.txt\", \"r\") as input:\n",
        "\n",
        "\t# Creating \"gfg output file.txt\" as output\n",
        "\t# file in write mode\n",
        "\twith open(\"gfg output file.txt\", \"w\") as output:\n",
        "\n",
        "\t\t# Writing each line from input file to\n",
        "\t\t# output file using loop\n",
        "\t\tfor line in input:\n",
        "\t\t\toutput.write(line)\n"
      ],
      "metadata": {
        "id": "A8L_j5Uxanmj"
      },
      "execution_count": null,
      "outputs": []
    },
    {
      "cell_type": "code",
      "source": [
        "#5. How would you catch and handle division by zero error in Python?\n",
        "\n",
        "try:\n",
        "    result = 10 / 0\n",
        "except ZeroDivisionError:\n",
        "    print(\"Cannot divide by zero\")"
      ],
      "metadata": {
        "colab": {
          "base_uri": "https://localhost:8080/"
        },
        "id": "3DKc0qfaay9N",
        "outputId": "4666d118-6237-44f0-d021-1bdb310b69a2"
      },
      "execution_count": null,
      "outputs": [
        {
          "output_type": "stream",
          "name": "stdout",
          "text": [
            "Cannot divide by zero\n"
          ]
        }
      ]
    },
    {
      "cell_type": "code",
      "source": [
        "#6.Write a Python program that logs an error message to a log file when a division by zero exception occurs?\n",
        "\n",
        "# Define a function named divide_numbers that takes two parameters: x and y.\n",
        "def divide_numbers(x, y):\n",
        "    try:\n",
        "        # Attempt to perform the division operation and store the result in the 'result' variable.\n",
        "        result = x / y\n",
        "        # Print the result of the division.\n",
        "        print(\"Result:\", result)\n",
        "    except ZeroDivisionError:\n",
        "        # Handle the exception if a division by zero is attempted.\n",
        "        print(\"The division by zero operation is not allowed.\")\n",
        "\n",
        "# Usage\n",
        "# Define the numerator and denominator values.\n",
        "numerator = 100\n",
        "denominator = 0\n",
        "# Call the divide_numbers function with the provided numerator and denominator.\n",
        "divide_numbers(numerator, denominator)\n"
      ],
      "metadata": {
        "id": "3yWK1WizbXTz"
      },
      "execution_count": null,
      "outputs": []
    },
    {
      "cell_type": "code",
      "source": [
        "#7.How do you log information at different levels (INFO, ERROR, WARNING) in Python using the logging module ?\n",
        "\n",
        "\n",
        "# importing module\n",
        "import logging\n",
        "\n",
        "# Create and configure logger\n",
        "logging.basicConfig(filename=\"newfile.log\",\n",
        "                    format='%(asctime)s %(message)s',\n",
        "                    filemode='w')\n",
        "\n",
        "# Creating an object\n",
        "logger = logging.getLogger()\n",
        "\n",
        "# Setting the threshold of logger to DEBUG\n",
        "logger.setLevel(logging.DEBUG)\n",
        "\n",
        "# Test messages\n",
        "logger.debug(\"Harmless debug Message\")\n",
        "logger.info(\"Just an information\")\n",
        "logger.warning(\"Its a Warning\")\n",
        "logger.error(\"Did you try to divide by zero\")\n",
        "logger.critical(\"Internet is down\")"
      ],
      "metadata": {
        "colab": {
          "base_uri": "https://localhost:8080/"
        },
        "id": "OF5fgdtgdAN0",
        "outputId": "1347962c-e6e7-4f0b-abc2-7619c5805f80"
      },
      "execution_count": null,
      "outputs": [
        {
          "output_type": "stream",
          "name": "stderr",
          "text": [
            "DEBUG:root:Harmless debug Message\n",
            "INFO:root:Just an information\n",
            "WARNING:root:Its a Warning\n",
            "ERROR:root:Did you try to divide by zero\n",
            "CRITICAL:root:Internet is down\n"
          ]
        }
      ]
    },
    {
      "cell_type": "code",
      "source": [
        "#8. Write a program to handle a file opening error using exception handling?\n",
        "\n",
        "try:\n",
        "    n = 0\n",
        "    res = 100 / n\n",
        "\n",
        "except ZeroDivisionError:\n",
        "    print(\"You can't divide by zero!\")\n",
        "\n",
        "except ValueError:\n",
        "    print(\"Enter a valid number!\")\n",
        "\n",
        "else:\n",
        "    print(\"Result is\", res)\n",
        "\n",
        "finally:\n",
        "    print(\"Execution complete.\")"
      ],
      "metadata": {
        "colab": {
          "base_uri": "https://localhost:8080/"
        },
        "id": "k3RFOey6dbWf",
        "outputId": "a699591e-ebe2-47c1-d173-552102fdd502"
      },
      "execution_count": null,
      "outputs": [
        {
          "output_type": "stream",
          "name": "stdout",
          "text": [
            "You can't divide by zero!\n",
            "Execution complete.\n"
          ]
        }
      ]
    },
    {
      "cell_type": "code",
      "source": [
        "#9.How can you read a file line by line and store its content in a list in Python?\n",
        "\n",
        "List = [\"Soumyaray\\n\", \"Data Analyst\\n\", \"Pwskills\\n\"]\n",
        "\n",
        "# Writing to file\n",
        "file1 = open('myfile.txt', 'w')\n",
        "file1.writelines(List)\n",
        "file1.close()\n",
        "\n",
        "# Opening file\n",
        "file1 = open('myfile.txt', 'r')\n",
        "count = 0\n",
        "\n",
        "# Using for loop\n",
        "print(\"Using for loop\")\n",
        "for line in file1:\n",
        "    count += 1\n",
        "    print(\"Line{}: {}\".format(count, line.strip()))\n",
        "\n",
        "# Closing files\n",
        "file1.close()"
      ],
      "metadata": {
        "colab": {
          "base_uri": "https://localhost:8080/"
        },
        "id": "cb78xUnueKYG",
        "outputId": "eb928027-f2fb-4e18-e9ee-4b7651b9cb6a"
      },
      "execution_count": 1,
      "outputs": [
        {
          "output_type": "stream",
          "name": "stdout",
          "text": [
            "Using for loop\n",
            "Line1: Soumyaray\n",
            "Line2: Data Analyst\n",
            "Line3: Pwskills\n"
          ]
        }
      ]
    },
    {
      "cell_type": "code",
      "source": [
        "#10.How can you append data to an existing file in Python?\n",
        "file1 = open(\"myfile.txt\", \"w\")\n",
        "L = [\"India \\n\", \"Airstick \\n\", \" Pakistan\"]\n",
        "file1.writelines(L)\n",
        "file1.close()\n",
        "\n",
        "# Append-adds at last\n",
        "file1 = open(\"myfile.txt\", \"a\")  # append mode\n",
        "file1.write(\"on May 7  \\n\")\n",
        "file1.close()"
      ],
      "metadata": {
        "id": "FuiZM7blepNQ"
      },
      "execution_count": 3,
      "outputs": []
    },
    {
      "cell_type": "code",
      "source": [
        "#11.Write a Python program that uses a try-except block to handle an error when attempting to access a dictionary key that doesn't exist ?\n",
        "\n",
        "country_code = {'India': '0091',\n",
        "\t\t\t\t'Australia': '0025',\n",
        "\t\t\t\t'Nepal': '00977'}\n",
        "\n",
        "try:\n",
        "\tprint(country_code['India'])\n",
        "\tprint(country_code['USA'])\n",
        "except KeyError:\n",
        "\tprint('Not Found')\n"
      ],
      "metadata": {
        "colab": {
          "base_uri": "https://localhost:8080/"
        },
        "id": "j678bprEZ6p8",
        "outputId": "e70b2e5f-78ab-49f7-e1bf-229d6e8c217a"
      },
      "execution_count": 4,
      "outputs": [
        {
          "output_type": "stream",
          "name": "stdout",
          "text": [
            "0091\n",
            "Not Found\n"
          ]
        }
      ]
    },
    {
      "cell_type": "code",
      "source": [
        "#12.Write a program that demonstrates using multiple except blocks to handle different types of exceptions ?\n",
        "\n",
        "# Simple Exception Handling Example\n",
        "n = 10\n",
        "try:\n",
        "    res = n / 0  # This will raise a ZeroDivisionError\n",
        "\n",
        "except ZeroDivisionError:\n",
        "    print(\"Can't be divided by zero!\")"
      ],
      "metadata": {
        "colab": {
          "base_uri": "https://localhost:8080/"
        },
        "id": "xBbL9pxkaeLD",
        "outputId": "531ff2bb-2d25-4e49-e65c-9d50fe542bff"
      },
      "execution_count": 6,
      "outputs": [
        {
          "output_type": "stream",
          "name": "stdout",
          "text": [
            "Can't be divided by zero!\n"
          ]
        }
      ]
    },
    {
      "cell_type": "code",
      "source": [
        "#13.How would you check if a file exists before attempting to read it in Python?\n",
        "\n",
        "import os\n",
        "from pathlib import Path\n",
        "\n",
        "# Method 1: Using os.path.exists()\n",
        "file_path_os = \"my_file.txt\"\n",
        "if os.path.exists(file_path_os):\n",
        "    with open(file_path_os, 'r') as file:\n",
        "        content = file.read()\n",
        "        print(\"File content (using os):\", content)\n",
        "else:\n",
        "    print(f\"File '{file_path_os}' does not exist.\")"
      ],
      "metadata": {
        "colab": {
          "base_uri": "https://localhost:8080/"
        },
        "id": "Zbg6oXq-a11e",
        "outputId": "4d39295c-c5eb-4400-f2d0-41cd9dc01a4d"
      },
      "execution_count": 7,
      "outputs": [
        {
          "output_type": "stream",
          "name": "stdout",
          "text": [
            "File 'my_file.txt' does not exist.\n"
          ]
        }
      ]
    },
    {
      "cell_type": "code",
      "source": [
        "#14.Write a program that uses the logging module to log both informational and error messages ?\n",
        "\n",
        "import logging\n",
        "\n",
        "# Configure the logger\n",
        "logging.basicConfig(\n",
        "    level=logging.DEBUG,\n",
        "    format='%(asctime)s - %(levelname)s - %(message)s',\n",
        "    filename='app.log',\n",
        "    filemode='w'\n",
        ")\n",
        "\n",
        "def divide(x, y):\n",
        "    \"\"\"Divides two numbers and logs the action.\"\"\"\n",
        "    logging.info(f\"Dividing {x} by {y}\")\n",
        "    try:\n",
        "        result = x / y\n",
        "    except ZeroDivisionError:\n",
        "        logging.error(f\"Attempted to divide by zero. x={x}, y={y}\")\n",
        "        return None\n",
        "    else:\n",
        "        logging.info(f\"Result: {result}\")\n",
        "        return result\n",
        "\n",
        "if __name__ == \"__main__\":\n",
        "    divide(10, 2)\n",
        "    divide(5, 0)\n",
        "    divide(8, 4)"
      ],
      "metadata": {
        "colab": {
          "base_uri": "https://localhost:8080/"
        },
        "id": "KJbS-UyKbi75",
        "outputId": "e0c16a6a-d021-4c15-9172-315d0ea5918c"
      },
      "execution_count": 1,
      "outputs": [
        {
          "output_type": "stream",
          "name": "stderr",
          "text": [
            "ERROR:root:Attempted to divide by zero. x=5, y=0\n"
          ]
        }
      ]
    },
    {
      "cell_type": "code",
      "source": [
        "#15.Write a Python program that prints the content of a file and handles the case when the file is empty?\n",
        "\n",
        "\n",
        "def print_file_content(file_path):\n",
        "    \"\"\"\n",
        "    Prints the content of a file.\n",
        "    Handles the case where the file is empty.\n",
        "    \"\"\"\n",
        "    try:\n",
        "        with open(file_path, 'r') as file:\n",
        "            content = file.read()\n",
        "            if not content:\n",
        "                print(\"The file is empty.\")\n",
        "            else:\n",
        "                print(content)\n",
        "    except FileNotFoundError:\n",
        "        print(f\"Error: File not found: {file_path}\")\n",
        "\n",
        "# Example usage:\n",
        "file_path = \"my_file.txt\"\n",
        "\n",
        "# Create an empty file for testing\n",
        "with open(file_path, 'w') as f:\n",
        "    pass\n",
        "\n",
        "print(\"Printing content of an empty file:\")\n",
        "print_file_content(file_path)\n",
        "\n",
        "# Write some content to the file\n",
        "with open(file_path, 'w') as f:\n",
        "    f.write(\"This is a test.\\n\")\n",
        "    f.write(\"Another line.\\n\")\n",
        "\n",
        "print(\"\\nPrinting content of a file with content:\")\n",
        "print_file_content(file_path)\n",
        "\n",
        "# Test with a non-existent file\n",
        "print(\"\\nTesting with a non-existent file:\")\n",
        "print_file_content(\"non_existent_file.txt\")"
      ],
      "metadata": {
        "colab": {
          "base_uri": "https://localhost:8080/"
        },
        "id": "34DaWSYDdvqv",
        "outputId": "a6e0474b-97dc-4b0f-a864-e5e9ccdced2a"
      },
      "execution_count": 9,
      "outputs": [
        {
          "output_type": "stream",
          "name": "stdout",
          "text": [
            "Printing content of an empty file:\n",
            "The file is empty.\n",
            "\n",
            "Printing content of a file with content:\n",
            "This is a test.\n",
            "Another line.\n",
            "\n",
            "\n",
            "Testing with a non-existent file:\n",
            "Error: File not found: non_existent_file.txt\n"
          ]
        }
      ]
    },
    {
      "cell_type": "code",
      "source": [
        "#16.Demonstrate how to use memory profiling to check the memory usage of a small program ?\n",
        "\n",
        "#1.Install memory_profiler:\n",
        "\n",
        "\"\"\"  pip install memory_profiler \"\"\"\n",
        "#2.Import and Decorate:\n",
        "\n",
        "    import memory_profiler\n",
        "\n",
        "    @memory_profiler.profile\n",
        "    def my_function():\n",
        "        # Your code here\n",
        "        data = list(range(100))  # Example memory usage\n",
        "        return data\n",
        "\n",
        "#3.Run the Script:\n",
        "\n",
        "    python -m memory_profiler your_script.py\n",
        "\n",
        "\n",
        " #Example-\n",
        "\n",
        "    import memory_profiler\n",
        "\n",
        "@memory_profiler.profile\n",
        "def create_list():\n",
        "  my_list = []\n",
        "  for i in range(100):\n",
        "    my_list.append(i)\n",
        "  return my_list\n",
        "\n",
        "create_list()"
      ],
      "metadata": {
        "id": "7MPdxZ96f35A"
      },
      "execution_count": null,
      "outputs": []
    },
    {
      "cell_type": "code",
      "source": [
        "#17.Write a Python program to create and write a list of numbers to a file, one number per line ?\n",
        "\n",
        "def write_numbers_to_file(filename, numbers):\n",
        "    \"\"\"Writes a list of numbers to a file, one number per line.\n",
        "\n",
        "    Args:\n",
        "        filename: The name of the file to write to.\n",
        "        numbers: A list of numbers to write.\n",
        "    \"\"\"\n",
        "    with open(filename, 'w') as file:\n",
        "        for number in numbers:\n",
        "            file.write(str(number) + '\\n')\n",
        "\n",
        "if __name__ == \"__main__\":\n",
        "    numbers = [10, 20, 30, 40, 50]\n",
        "    filename = \"numbers.txt\"\n",
        "    write_numbers_to_file(filename, numbers)\n",
        "    print(f\"Numbers written to {filename} successfully.\")\n"
      ],
      "metadata": {
        "id": "p2vrZgNcgz9P"
      },
      "execution_count": null,
      "outputs": []
    },
    {
      "cell_type": "code",
      "source": [
        "#18.How would you implement a basic logging setup that logs to a file with rotation after 1MB ?\n",
        "\n",
        "def WriteExceptionToFile(self, traceback):\n",
        "\n",
        "    count = 1\n",
        "    fileDir = 'C:/Users/Desktop/SampleTestFiles/ProjectFiles/ExceptionLogFiles/'\n",
        "    # check if the path exists, create directory if not.\n",
        "    if not (os.path.exists):\n",
        "        os.mkdir(fileDir)\n",
        "\n",
        "    filename = \"ExceptionLog_\"+ str(count) +\".txt\"\n",
        "    filepath = os.path.join(fileDir, filename)\n",
        "\n",
        "    try:\n",
        "        if os.path.getsize(filepath) < 1048576: # if file size is less than 1 MB\n",
        "            filename = \"ExceptionLog_\" + str(count) + \".txt\"\n",
        "        else:\n",
        "            filename = \"ExceptionLog_\" + str(count + 1) + \".txt\"\n",
        "\n",
        "    except OSError:\n",
        "        Print(\"Path '%s' does not exists or is inaccessible\" % filepath)\n",
        "        filename = \"ExceptionLog_1.txt\"\n",
        "\n",
        "    filepath = os.path.join(fileDir, filename)\n",
        "\n",
        "    with open(filepath, 'a+') as f:\n",
        "        traceback.print_exc(file=f)\n",
        "        f.close()"
      ],
      "metadata": {
        "id": "6zsMqg5FhblG"
      },
      "execution_count": null,
      "outputs": []
    },
    {
      "cell_type": "code",
      "source": [
        "#19.Write a program that handles both IndexError and KeyError using a try-except block ?\n",
        "\n",
        "data = [1, 2, 3]\n",
        "my_dict = {\"a\": 1, \"b\": 2, \"c\": 3}\n",
        "\n",
        "try:\n",
        "    index = int(input(\"Enter an index for the list: \"))\n",
        "    value = data[index]\n",
        "    print(f\"Value at index {index}: {value}\")\n",
        "\n",
        "    key = input(\"Enter a key for the dictionary: \")\n",
        "    dict_value = my_dict[key]\n",
        "    print(f\"Value for key '{key}': {dict_value}\")\n",
        "\n",
        "except IndexError:\n",
        "    print(\"Error: Index out of range.\")\n",
        "except KeyError:\n",
        "    print(\"Error: Key not found in dictionary.\")\n",
        "except ValueError:\n",
        "    print(\"Error: Invalid input. Please enter an integer for the index.\")\n",
        "\n"
      ],
      "metadata": {
        "id": "fpqmBs8jiM9r"
      },
      "execution_count": null,
      "outputs": []
    },
    {
      "cell_type": "code",
      "source": [
        "#20.How would you open a file and read its contents using a context manager in Python?\n",
        "\n",
        "file_path = 'example.txt'\n",
        "\n",
        "try:\n",
        "    with open(file_path, 'r') as file:\n",
        "        content = file.read()\n",
        "        print(content)\n",
        "except FileNotFoundError:\n",
        "    print(f\"Error: The file '{file_path}' was not found.\")\n",
        "except Exception as e:\n",
        "    print(f\"An error occurred: {e}\")"
      ],
      "metadata": {
        "id": "9a3e_1_Zinkk"
      },
      "execution_count": null,
      "outputs": []
    },
    {
      "cell_type": "code",
      "source": [
        "#21.Write a Python program that reads a file and prints the number of occurrences of a specific word?\n",
        "\n",
        "\"\"\"\n",
        "Mango banana apple pear\n",
        "Banana grapes strawberry\n",
        "Apple pear mango banana\n",
        "Kiwi apple mango strawberry\n",
        "                           \"\"\"\n",
        "\n",
        "# Open the file in read mode\n",
        "text = open(\"sample.txt\", \"r\")\n",
        "\n",
        "# Create an empty dictionary\n",
        "d = dict()\n",
        "\n",
        "# Loop through each line of the file\n",
        "for line in text:\n",
        "\t# Remove the leading spaces and newline character\n",
        "\tline = line.strip()\n",
        "\n",
        "\t# Convert the characters in line to\n",
        "\t# lowercase to avoid case mismatch\n",
        "\tline = line.lower()\n",
        "\n",
        "\t# Split the line into words\n",
        "\twords = line.split(\" \")\n",
        "\n",
        "\n",
        "\t# Iterate over each word in line\n",
        "\tfor word in words:\n",
        "\t\t# Check if the word is already in dictionary\n",
        "\t\tif word in d:\n",
        "\t\t\t# Increment count of word by 1\n",
        "\t\t\td[word] = d[word] + 1\n",
        "\t\telse:\n",
        "\t\t\t# Add the word to dictionary with count 1\n",
        "\t\t\td[word] = 1\n",
        "\n",
        "# Print the contents of dictionary\n",
        "for key in list(d.keys()):\n",
        "\tprint(key, \":\", d[key])\n",
        "\n"
      ],
      "metadata": {
        "id": "DjVLqj16ixdR"
      },
      "execution_count": null,
      "outputs": []
    },
    {
      "cell_type": "code",
      "source": [
        "#22.How can you check if a file is empty before attempting to read its contents ?\n",
        "\n",
        "# import required libraries\n",
        "import os\n",
        "\n",
        "# file_path to check whether it is empty\n",
        "file_path = \"/Users/soumya/Desktop/Pwskills/input.txt\"\n",
        "\n",
        "try:\n",
        "    # get the size of file\n",
        "    file_size = os.path.getsize(file_path)\n",
        "\n",
        "    # if file size is 0, it is empty\n",
        "    if file_size == 0:\n",
        "        print(\"File is empty\")\n",
        "    else:\n",
        "        print(\"File is NOT empty\")\n",
        "\n",
        "# if file does not exist, then exception occurs\n",
        "except FileNotFoundError as e:\n",
        "    print(\"File NOT found\")"
      ],
      "metadata": {
        "id": "Ai_JFhOljUAN"
      },
      "execution_count": null,
      "outputs": []
    },
    {
      "cell_type": "code",
      "source": [
        "#23.Write a Python program that writes to a log file when an error occurs during file handling.\n",
        "\n",
        "# importing the module\n",
        "import logging\n",
        "\n",
        "try:\n",
        "\tprintf(\"GeeksforGeeks\")\n",
        "except Exception as Argument:\n",
        "\tlogging.exception(\"Error occurred while printing GeeksforGeeks\")\n"
      ],
      "metadata": {
        "id": "NPyTZnkkj1kw"
      },
      "execution_count": null,
      "outputs": []
    }
  ]
}